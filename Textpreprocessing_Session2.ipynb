{
 "cells": [
  {
   "cell_type": "code",
   "execution_count": 3,
   "metadata": {},
   "outputs": [],
   "source": [
    "#TASK 1-Lexicons\n",
    "\n",
    "#1.Stopwords\n",
    "from nltk.corpus import stopwords\n"
   ]
  },
  {
   "cell_type": "code",
   "execution_count": 4,
   "metadata": {},
   "outputs": [
    {
     "data": {
      "text/plain": [
       "[('a', ['AH0']),\n",
       " ('a.', ['EY1']),\n",
       " ('a', ['EY1']),\n",
       " ('a42128',\n",
       "  ['EY1',\n",
       "   'F',\n",
       "   'AO1',\n",
       "   'R',\n",
       "   'T',\n",
       "   'UW1',\n",
       "   'W',\n",
       "   'AH1',\n",
       "   'N',\n",
       "   'T',\n",
       "   'UW1',\n",
       "   'EY1',\n",
       "   'T']),\n",
       " ('aaa', ['T', 'R', 'IH2', 'P', 'AH0', 'L', 'EY1']),\n",
       " ('aaberg', ['AA1', 'B', 'ER0', 'G']),\n",
       " ('aachen', ['AA1', 'K', 'AH0', 'N']),\n",
       " ('aachener', ['AA1', 'K', 'AH0', 'N', 'ER0']),\n",
       " ('aaker', ['AA1', 'K', 'ER0']),\n",
       " ('aalseth', ['AA1', 'L', 'S', 'EH0', 'TH']),\n",
       " ('aamodt', ['AA1', 'M', 'AH0', 'T']),\n",
       " ('aancor', ['AA1', 'N', 'K', 'AO2', 'R']),\n",
       " ('aardema', ['AA0', 'R', 'D', 'EH1', 'M', 'AH0']),\n",
       " ('aardvark', ['AA1', 'R', 'D', 'V', 'AA2', 'R', 'K']),\n",
       " ('aaron', ['EH1', 'R', 'AH0', 'N']),\n",
       " (\"aaron's\", ['EH1', 'R', 'AH0', 'N', 'Z']),\n",
       " ('aarons', ['EH1', 'R', 'AH0', 'N', 'Z']),\n",
       " ('aaronson', ['EH1', 'R', 'AH0', 'N', 'S', 'AH0', 'N']),\n",
       " ('aaronson', ['AA1', 'R', 'AH0', 'N', 'S', 'AH0', 'N']),\n",
       " (\"aaronson's\", ['EH1', 'R', 'AH0', 'N', 'S', 'AH0', 'N', 'Z']),\n",
       " (\"aaronson's\", ['AA1', 'R', 'AH0', 'N', 'S', 'AH0', 'N', 'Z']),\n",
       " ('aarti', ['AA1', 'R', 'T', 'IY2']),\n",
       " ('aase', ['AA1', 'S']),\n",
       " ('aasen', ['AA1', 'S', 'AH0', 'N']),\n",
       " ('ab', ['AE1', 'B']),\n",
       " ('ab', ['EY1', 'B', 'IY1']),\n",
       " ('ababa', ['AH0', 'B', 'AA1', 'B', 'AH0']),\n",
       " ('ababa', ['AA1', 'B', 'AH0', 'B', 'AH0']),\n",
       " ('abacha', ['AE1', 'B', 'AH0', 'K', 'AH0']),\n",
       " ('aback', ['AH0', 'B', 'AE1', 'K']),\n",
       " ('abaco', ['AE1', 'B', 'AH0', 'K', 'OW2']),\n",
       " ('abacus', ['AE1', 'B', 'AH0', 'K', 'AH0', 'S']),\n",
       " ('abad', ['AH0', 'B', 'AA1', 'D']),\n",
       " ('abadaka', ['AH0', 'B', 'AE1', 'D', 'AH0', 'K', 'AH0']),\n",
       " ('abadi', ['AH0', 'B', 'AE1', 'D', 'IY0']),\n",
       " ('abadie', ['AH0', 'B', 'AE1', 'D', 'IY0']),\n",
       " ('abair', ['AH0', 'B', 'EH1', 'R']),\n",
       " ('abalkin', ['AH0', 'B', 'AA1', 'L', 'K', 'IH0', 'N']),\n",
       " ('abalone', ['AE2', 'B', 'AH0', 'L', 'OW1', 'N', 'IY0']),\n",
       " ('abalos', ['AA0', 'B', 'AA1', 'L', 'OW0', 'Z']),\n",
       " ('abandon', ['AH0', 'B', 'AE1', 'N', 'D', 'AH0', 'N']),\n",
       " ('abandoned', ['AH0', 'B', 'AE1', 'N', 'D', 'AH0', 'N', 'D']),\n",
       " ('abandoning', ['AH0', 'B', 'AE1', 'N', 'D', 'AH0', 'N', 'IH0', 'NG']),\n",
       " ('abandonment',\n",
       "  ['AH0', 'B', 'AE1', 'N', 'D', 'AH0', 'N', 'M', 'AH0', 'N', 'T']),\n",
       " ('abandonments',\n",
       "  ['AH0', 'B', 'AE1', 'N', 'D', 'AH0', 'N', 'M', 'AH0', 'N', 'T', 'S']),\n",
       " ('abandons', ['AH0', 'B', 'AE1', 'N', 'D', 'AH0', 'N', 'Z']),\n",
       " ('abanto', ['AH0', 'B', 'AE1', 'N', 'T', 'OW0']),\n",
       " ('abarca', ['AH0', 'B', 'AA1', 'R', 'K', 'AH0']),\n",
       " ('abare', ['AA0', 'B', 'AA1', 'R', 'IY0']),\n",
       " ('abascal', ['AE1', 'B', 'AH0', 'S', 'K', 'AH0', 'L'])]"
      ]
     },
     "execution_count": 4,
     "metadata": {},
     "output_type": "execute_result"
    }
   ],
   "source": [
    "#2.cmudict\n",
    "import nltk\n",
    "entries=nltk.corpus.cmudict.entries()\n",
    "entries[:50]"
   ]
  },
  {
   "cell_type": "code",
   "execution_count": 5,
   "metadata": {},
   "outputs": [
    {
     "data": {
      "text/plain": [
       "[Synset('car.n.01')]"
      ]
     },
     "execution_count": 5,
     "metadata": {},
     "output_type": "execute_result"
    }
   ],
   "source": [
    "#3.Wordnet\n",
    "from nltk.corpus import wordnet as wn\n",
    "wn.synsets('motorcar')"
   ]
  },
  {
   "cell_type": "code",
   "execution_count": 6,
   "metadata": {},
   "outputs": [
    {
     "data": {
      "text/plain": [
       "['car', 'auto', 'automobile', 'machine', 'motorcar']"
      ]
     },
     "execution_count": 6,
     "metadata": {},
     "output_type": "execute_result"
    }
   ],
   "source": [
    "wn.synset('car.n.01').lemma_names()"
   ]
  },
  {
   "cell_type": "code",
   "execution_count": 7,
   "metadata": {},
   "outputs": [
    {
     "data": {
      "text/plain": [
       "[Synset('hello.n.01'), Synset('hawaii.n.01')]"
      ]
     },
     "execution_count": 7,
     "metadata": {},
     "output_type": "execute_result"
    }
   ],
   "source": [
    "wn.synsets('hi')"
   ]
  },
  {
   "cell_type": "code",
   "execution_count": 8,
   "metadata": {},
   "outputs": [
    {
     "data": {
      "text/plain": [
       "['hello', 'hullo', 'hi', 'howdy', 'how-do-you-do']"
      ]
     },
     "execution_count": 8,
     "metadata": {},
     "output_type": "execute_result"
    }
   ],
   "source": [
    "wn.synset('hello.n.01').lemma_names()"
   ]
  },
  {
   "cell_type": "code",
   "execution_count": 4,
   "metadata": {},
   "outputs": [
    {
     "data": {
      "text/plain": [
       "'cacti'"
      ]
     },
     "execution_count": 4,
     "metadata": {},
     "output_type": "execute_result"
    }
   ],
   "source": [
    "#TASk 2 STEMMING\n",
    "import nltk\n",
    "from nltk.stem import PorterStemmer\n",
    "stemmerport=PorterStemmer()\n",
    "stemmerport.stem('cacti')"
   ]
  },
  {
   "cell_type": "code",
   "execution_count": 3,
   "metadata": {},
   "outputs": [
    {
     "data": {
      "text/plain": [
       "'cact'"
      ]
     },
     "execution_count": 3,
     "metadata": {},
     "output_type": "execute_result"
    }
   ],
   "source": [
    "from nltk.stem import LancasterStemmer\n",
    "stemmerLan=LancasterStemmer()\n",
    "stemmerLan.stem('cacti')"
   ]
  },
  {
   "cell_type": "code",
   "execution_count": 11,
   "metadata": {},
   "outputs": [
    {
     "data": {
      "text/plain": [
       "'reads'"
      ]
     },
     "execution_count": 11,
     "metadata": {},
     "output_type": "execute_result"
    }
   ],
   "source": [
    "#reexp\n",
    "import nltk\n",
    "from nltk.stem import RegexpStemmer\n",
    "stemmerregexp=RegexpStemmer('ing')\n",
    "stemmerregexp.stem('readings')"
   ]
  },
  {
   "cell_type": "code",
   "execution_count": 12,
   "metadata": {},
   "outputs": [
    {
     "data": {
      "text/plain": [
       "'ein'"
      ]
     },
     "execution_count": 12,
     "metadata": {},
     "output_type": "execute_result"
    }
   ],
   "source": [
    "from nltk.stem import SnowballStemmer\n",
    "SnowballStemmer.languages\n",
    "frenchstemmer=SnowballStemmer('german')\n",
    "frenchstemmer.stem('einen')"
   ]
  },
  {
   "cell_type": "code",
   "execution_count": 13,
   "metadata": {},
   "outputs": [],
   "source": [
    "stp=PorterStemmer()\n",
    "example=\"I am learning nlp\"\n",
    "exaample=[stp.stem(token) for token in example.split(\" \")]"
   ]
  },
  {
   "cell_type": "code",
   "execution_count": 14,
   "metadata": {},
   "outputs": [
    {
     "name": "stdout",
     "output_type": "stream",
     "text": [
      "I am learn nlp\n"
     ]
    }
   ],
   "source": [
    "print(\" \".join(exaample))"
   ]
  },
  {
   "cell_type": "code",
   "execution_count": 15,
   "metadata": {},
   "outputs": [],
   "source": [
    "#TASK5:chinese segmentation using jieba"
   ]
  },
  {
   "cell_type": "code",
   "execution_count": 16,
   "metadata": {},
   "outputs": [
    {
     "name": "stdout",
     "output_type": "stream",
     "text": [
      "把 句子 中所 所有 的 可以 成 词 的 词语 都 扫描 描出 描出来 出来\n"
     ]
    }
   ],
   "source": [
    "import jieba\n",
    "seg=jieba.cut(\"把句子中所有的可以成词的词语都扫描出来\",cut_all=True)\n",
    "print(\" \".join(seg))"
   ]
  },
  {
   "cell_type": "code",
   "execution_count": null,
   "metadata": {},
   "outputs": [],
   "source": []
  }
 ],
 "metadata": {
  "kernelspec": {
   "display_name": "py3-TF2.0",
   "language": "python",
   "name": "py3-tf2.0"
  },
  "language_info": {
   "codemirror_mode": {
    "name": "ipython",
    "version": 3
   },
   "file_extension": ".py",
   "mimetype": "text/x-python",
   "name": "python",
   "nbconvert_exporter": "python",
   "pygments_lexer": "ipython3",
   "version": "3.7.7"
  }
 },
 "nbformat": 4,
 "nbformat_minor": 4
}
