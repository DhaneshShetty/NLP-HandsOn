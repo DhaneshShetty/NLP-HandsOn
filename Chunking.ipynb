{
 "cells": [
  {
   "cell_type": "code",
   "execution_count": 3,
   "metadata": {},
   "outputs": [],
   "source": [
    "import nltk"
   ]
  },
  {
   "cell_type": "code",
   "execution_count": 4,
   "metadata": {},
   "outputs": [
    {
     "name": "stdout",
     "output_type": "stream",
     "text": [
      "(S\n",
      "  (NP the/DT little/JJ yellow/JJ dog/NN)\n",
      "  barked/VBD\n",
      "  at/IN\n",
      "  (NP the/DT cat/NN))\n"
     ]
    }
   ],
   "source": [
    "sentence=[(\"the\",\"DT\"),(\"little\",\"JJ\"),(\"yellow\",\"JJ\"),(\"dog\",\"NN\"),(\"barked\",\"VBD\"),(\"at\",\"IN\"),(\"the\",\"DT\"),(\"cat\",\"NN\")]\n",
    "grammar=\"NP:{<DT>?<JJ>*<NN>}\"\n",
    "c=nltk.RegexpParser(grammar)\n",
    "result=c.parse(sentence)\n",
    "print(result)"
   ]
  },
  {
   "cell_type": "code",
   "execution_count": null,
   "metadata": {},
   "outputs": [],
   "source": [
    "result.draw()"
   ]
  },
  {
   "cell_type": "code",
   "execution_count": 8,
   "metadata": {},
   "outputs": [
    {
     "name": "stdout",
     "output_type": "stream",
     "text": [
      "['Now we are engaged in a great civil war, testing whether that nation, or any nation so conceived and so dedicated, can long endure']\n",
      "[('Now', 'RB'), ('we', 'PRP'), ('are', 'VBP'), ('engaged', 'VBN'), ('in', 'IN'), ('a', 'DT'), ('great', 'JJ'), ('civil', 'JJ'), ('war', 'NN'), (',', ','), ('testing', 'VBG'), ('whether', 'IN'), ('that', 'DT'), ('nation', 'NN'), (',', ','), ('or', 'CC'), ('any', 'DT'), ('nation', 'NN'), ('so', 'RB'), ('conceived', 'JJ'), ('and', 'CC'), ('so', 'RB'), ('dedicated', 'JJ'), (',', ','), ('can', 'MD'), ('long', 'VB'), ('endure', 'NN')]\n",
      "(S\n",
      "  Now/RB\n",
      "  we/PRP\n",
      "  are/VBP\n",
      "  engaged/VBN\n",
      "  in/IN\n",
      "  (NP a/DT great/JJ civil/JJ war/NN)\n",
      "  ,/,\n",
      "  testing/VBG\n",
      "  whether/IN\n",
      "  (NP that/DT nation/NN)\n",
      "  ,/,\n",
      "  or/CC\n",
      "  (NP any/DT nation/NN)\n",
      "  so/RB\n",
      "  conceived/JJ\n",
      "  and/CC\n",
      "  so/RB\n",
      "  dedicated/JJ\n",
      "  ,/,\n",
      "  can/MD\n",
      "  long/VB\n",
      "  (NP endure/NN))\n"
     ]
    }
   ],
   "source": [
    "#Sushan Gautham read it out\n",
    "#word tokenize\n",
    "#partof speech tag\n",
    "texts=\"Now we are engaged in a great civil war, testing whether that nation, or any nation so conceived and so dedicated, can long endure\"\n",
    "sentences=nltk.sent_tokenize(texts)\n",
    "print(sentences)\n",
    "for sentence in sentences:\n",
    "    words=nltk.word_tokenize(sentence)\n",
    "    tagged=nltk.pos_tag(words)\n",
    "    grammar=\"NP:{<DT>?<JJ>*<NN>}\"\n",
    "    c=nltk.RegexpParser(grammar)\n",
    "    result=c.parse(tagged)\n",
    "    print(result)"
   ]
  },
  {
   "cell_type": "code",
   "execution_count": null,
   "metadata": {},
   "outputs": [],
   "source": []
  }
 ],
 "metadata": {
  "kernelspec": {
   "display_name": "py3-TF2.0",
   "language": "python",
   "name": "py3-tf2.0"
  },
  "language_info": {
   "codemirror_mode": {
    "name": "ipython",
    "version": 3
   },
   "file_extension": ".py",
   "mimetype": "text/x-python",
   "name": "python",
   "nbconvert_exporter": "python",
   "pygments_lexer": "ipython3",
   "version": "3.7.7"
  }
 },
 "nbformat": 4,
 "nbformat_minor": 4
}
